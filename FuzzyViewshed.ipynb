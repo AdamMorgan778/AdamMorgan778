{
 "cells": [
  {
   "cell_type": "markdown",
   "metadata": {},
   "source": [
    "# Create composite target size sensitive fuzzy viewshed\n",
    "Uses modified Ogburn model  \n",
    "https://www.researchgate.net/publication/222908522_Assessing_the_level_of_visibility_of_cultural_objects_in_past_landscapes\n",
    "\n",
    "Builds upon Alberti's Geoprocessing implementation  \n",
    "https://www.researchgate.net/publication/320490670_Fuzzy_Viewshed_ArcGIS_toolbox\n",
    "\n",
    "History: Adam Morgan April 2021"
   ]
  },
  {
   "cell_type": "markdown",
   "metadata": {},
   "source": [
    "Set up environment of the routine  \n",
    "https://pro.arcgis.com/en/pro-app/latest/arcpy/classes/env.htm"
   ]
  },
  {
   "cell_type": "code",
   "execution_count": 3,
   "metadata": {},
   "outputs": [
    {
     "data": {
      "text/plain": [
       "'CheckedOut'"
      ]
     },
     "execution_count": 3,
     "metadata": {},
     "output_type": "execute_result"
    }
   ],
   "source": [
    "import arcpy\n",
    "import arcgis\n",
    "import math\n",
    "import time\n",
    "from datetime import datetime\n",
    "from arcpy.sa import *\n",
    "\n",
    "# Define input datasets\n",
    "Input_raster_DTM = \"LakeDistrictElevation_BNG\"\n",
    "viewpoints_dataset = \"Wainwright_Summits_BNG\"\n",
    "\n",
    "# Define object height in metres\n",
    "object_target_height = 74.0\n",
    "\n",
    "# get the extent of the DTM\n",
    "desc1 = arcpy.Describe(Input_raster_DTM)\n",
    "Extent= desc1.extent\n",
    "\n",
    "# To allow overwriting outputs change overwriteOutput option to True.\n",
    "arcpy.env.overwriteOutput = True\n",
    "arcpy.env.scratchWorkspace=r\"C:/Users/sulu3/Documents/ArcGIS/Projects/FuzzyViewshed/FuzzyViewshed.gdb\"\n",
    "arcpy.env.workspace=r\"C:/Users/sulu3/Documents/ArcGIS/Projects/FuzzyViewshed/FuzzyViewshed.gdb\"\n",
    "arcpy.env.snapRaster = Input_raster_DTM\n",
    "arcpy.env.extent = Extent\n",
    "\n",
    "# Check out any necessary licenses.\n",
    "arcpy.CheckOutExtension(\"3D\")\n",
    "arcpy.CheckOutExtension(\"spatial\")\n",
    "arcpy.CheckOutExtension(\"ImageAnalyst\")"
   ]
  },
  {
   "cell_type": "code",
   "execution_count": 4,
   "metadata": {},
   "outputs": [],
   "source": [
    "# Set the Coordinate system to British National Grid\n",
    "sr_BNG = arcpy.SpatialReference(\"British National Grid\")\n",
    "arcpy.env.outputCoordinateSystem = sr_BNG"
   ]
  },
  {
   "cell_type": "markdown",
   "metadata": {},
   "source": [
    "Create an empty raster dataset to hold to final results  \n",
    "Create the raster by copying the DTM raster, to provide the same grid extent and cell size.  \n",
    "Then set all pixel values to zero to begin with.\n",
    "\n",
    "https://pro.arcgis.com/en/pro-app/latest/tool-reference/data-management/copy-raster.htm  \n",
    "https://pro.arcgis.com/en/pro-app/latest/tool-reference/spatial-analyst/con-.htm  \n",
    "https://pro.arcgis.com/en/pro-app/latest/tool-reference/data-management/delete.htm"
   ]
  },
  {
   "cell_type": "code",
   "execution_count": 5,
   "metadata": {},
   "outputs": [],
   "source": [
    "def init_results_raster():\n",
    "    \n",
    "    print(datetime.now().strftime(\"%H:%M:%S\") + \" Initialising results raster\")\n",
    "\n",
    "    in_raster = Input_raster_DTM\n",
    "    temp_rasterdataset = \"temp_raster\"\n",
    "    config_keyword = \"\"\n",
    "    background_value = None\n",
    "    nodata_value = 0\n",
    "    onebit_to_eightbit = \"NONE\"\n",
    "    colormap_to_RGB = \"NONE\"\n",
    "    pixel_type = \"\"\n",
    "    scale_pixel_value = \"NONE\"\n",
    "    RGB_to_Colormap = \"NONE\"\n",
    "    format = \"\"\n",
    "    transform = \"NONE\"\n",
    "    process_as_multidimensional = \"CURRENT_SLICE\"\n",
    "    build_multidimensional_transpose = \"NO_TRANSPOSE\"\n",
    "\n",
    "    # set all pixels to zero\n",
    "    global result_rasterdataset\n",
    "    result_rasterdataset = \"result_raster\"\n",
    "\n",
    "    if arcpy.Exists(temp_rasterdataset):\n",
    "        arcpy.Delete_management(temp_rasterdataset)\n",
    "\n",
    "    arcpy.management.CopyRaster(in_raster, temp_rasterdataset, config_keyword, background_value, nodata_value, onebit_to_eightbit, colormap_to_RGB, pixel_type, scale_pixel_value, RGB_to_Colormap, format, transform, process_as_multidimensional, build_multidimensional_transpose)\n",
    "\n",
    "    if arcpy.Exists(result_rasterdataset):\n",
    "        arcpy.Delete_management(result_rasterdataset)\n",
    "\n",
    "    # set all cell values to 0\n",
    "    result_raster = Con(IsNull(temp_rasterdataset),0.0,0.0)\n",
    "    result_raster.save(result_rasterdataset)\n",
    "\n"
   ]
  },
  {
   "cell_type": "markdown",
   "metadata": {},
   "source": [
    "Calculate the euclidian distance to every cell in the study area from the viewpoint.\n",
    "\n",
    "https://pro.arcgis.com/en/pro-app/latest/tool-reference/spatial-analyst/euclidean-distance.htm"
   ]
  },
  {
   "cell_type": "code",
   "execution_count": 6,
   "metadata": {},
   "outputs": [],
   "source": [
    "def calc_eucl_dist():\n",
    "    desc2 = arcpy.Describe(Input_raster_DTM + \"/Band_1\")\n",
    "    Output_cell_size = desc2.meanCellWidth\n",
    "\n",
    "    eucl_dist_name = \"Eucl_Dist\"\n",
    "    \n",
    "    if arcpy.Exists(eucl_dist_name):\n",
    "        arcpy.Delete_management(eucl_dist_name)\n",
    "\n",
    "    global eucl_dist\n",
    "    eucl_dist = arcpy.sa.EucDistance(in_source_data=viewpoint, \\\n",
    "                                     maximum_distance=None, \\\n",
    "                                     cell_size=Output_cell_size, \\\n",
    "                                     out_direction_raster=\"\", \\\n",
    "                                     distance_method=\"GEODESIC\", \\\n",
    "                                     in_barrier_data=\"\", \\\n",
    "                                     out_back_direction_raster=\"\")\n",
    "    eucl_dist.save(eucl_dist_name)"
   ]
  },
  {
   "cell_type": "markdown",
   "metadata": {},
   "source": [
    "Use modified Ogburn equation to calculate the fuzzy membership value for each cell based on its distance from the viewpoint.  \n",
    "Fuzzy membership calculation based on Alberti's implementation of Ogburn\n",
    "\n",
    "https://www.researchgate.net/publication/320490670_Fuzzy_Viewshed_ArcGIS_toolbox"
   ]
  },
  {
   "cell_type": "code",
   "execution_count": 7,
   "metadata": {},
   "outputs": [],
   "source": [
    "def calc_fuzzy_membership():\n",
    "\n",
    "    fuzzy_memb_name = \"fuzzy_memb\"\n",
    "\n",
    "    # set parameters to tune results for wind turbines\n",
    "    vis_arc = 0.2\n",
    "    b1 = 1000.0\n",
    "    denominator = 1.8\n",
    "\n",
    "    if arcpy.Exists(fuzzy_memb_name):\n",
    "        arcpy.Delete_management(fuzzy_memb_name)\n",
    "\n",
    "    global fuzzy_memb\n",
    "    fuzzy_memb = Con(Raster(\"Eucl_Dist\") <= float(b1), 1, 1 / (1 + \n",
    "                                            (2 * (((Raster(\"Eucl_Dist\") - float(b1)) / \n",
    "                                            (((1 / (2 * math.tan((vis_arc * math.pi) / \n",
    "                                            180) / denominator)) * float(object_target_height)) - float(b1))))**2)))\n",
    "\n",
    "    fuzzy_memb.save(fuzzy_memb_name)"
   ]
  },
  {
   "cell_type": "markdown",
   "metadata": {},
   "source": [
    "Create a binary viewshed to show all the cells in the DTM that have line of sight to the viewpoint.\n",
    "\n",
    "https://pro.arcgis.com/en/pro-app/latest/tool-reference/spatial-analyst/viewshed-2.htm"
   ]
  },
  {
   "cell_type": "code",
   "execution_count": 8,
   "metadata": {},
   "outputs": [],
   "source": [
    "def calc_binary_viewshed():\n",
    "    \n",
    "    in_raster = Input_raster_DTM\n",
    "    in_observer_features = viewpoint\n",
    "    out_agl_raster = None\n",
    "    analysis_type = \"FREQUENCY\"\n",
    "    vertical_error = \"0 Meters\"\n",
    "    out_observer_region_relationship_table = None\n",
    "    refractivity_coefficient = 0.13\n",
    "    surface_offset = \"0 Meters\"\n",
    "    observer_elevation = None\n",
    "    observer_offset = 2\n",
    "    inner_radius = None\n",
    "    inner_radius_is_3d = \"GROUND\"\n",
    "    outer_radius = None\n",
    "    outer_radius_is_3d = \"GROUND\"\n",
    "    horizontal_start_angle = 0\n",
    "    horizontal_end_angle = 360\n",
    "    vertical_upper_angle = 90\n",
    "    vertical_lower_angle = -90\n",
    "    analysis_method = \"ALL_SIGHTLINES\"\n",
    "\n",
    "    global binary_viewshed\n",
    "    binary_viewshed = \"binary_vs\"\n",
    "        \n",
    "    if arcpy.Exists(binary_viewshed):\n",
    "        arcpy.Delete_management(binary_viewshed)\n",
    "\n",
    "    arcpy.ddd.Viewshed2(in_raster, in_observer_features, binary_viewshed, out_agl_raster, \\\n",
    "                        analysis_type, vertical_error, out_observer_region_relationship_table, \\\n",
    "                        refractivity_coefficient, surface_offset, observer_elevation, observer_offset, \\\n",
    "                        inner_radius, inner_radius_is_3d, outer_radius, outer_radius_is_3d, horizontal_start_angle, \\\n",
    "                        horizontal_end_angle, vertical_upper_angle, vertical_lower_angle, analysis_method)"
   ]
  },
  {
   "cell_type": "markdown",
   "metadata": {},
   "source": [
    "Multiply the binary viewshed (1 or 0) by the fuzzy membership for each cell to remove cells that cannot be seen.\n",
    "\n",
    "https://pro.arcgis.com/en/pro-app/latest/tool-reference/spatial-analyst/raster-calculator.htm"
   ]
  },
  {
   "cell_type": "code",
   "execution_count": 9,
   "metadata": {},
   "outputs": [],
   "source": [
    "def calc_fuzzy_viewshed():\n",
    "    \n",
    "    global fuzzy_vs\n",
    "    fuzzy_viewshed = \"fuzzy_vs\"\n",
    "        \n",
    "    if arcpy.Exists(fuzzy_viewshed):\n",
    "        arcpy.Delete_management(fuzzy_viewshed)\n",
    "        \n",
    "    fuzzy_vs = binary_viewshed * fuzzy_memb\n",
    "    fuzzy_vs = Con(IsNull(fuzzy_vs),0,fuzzy_vs)\n",
    "\n",
    "    fuzzy_vs.save(fuzzy_viewshed)"
   ]
  },
  {
   "cell_type": "markdown",
   "metadata": {},
   "source": [
    "https://pro.arcgis.com/en/pro-app/latest/tool-reference/data-management/rename.htm"
   ]
  },
  {
   "cell_type": "code",
   "execution_count": 10,
   "metadata": {},
   "outputs": [],
   "source": [
    "def calc_comp_fuzzy_viewshed():\n",
    "    # Add current fuzzy viewshed to final results raster\n",
    "    \n",
    "    if arcpy.Exists(\"temp_result\"):\n",
    "        arcpy.Delete_management(\"temp_result\")\n",
    "    \n",
    "    temp_raster = RasterCalculator([\"fuzzy_vs\",\"result_raster\"],[\"F\",\"R\"],\"R+F\") \n",
    "    temp_raster.save(\"temp_result\")\n",
    "    \n",
    "    # Difficult to delete sometimes\n",
    "    if arcpy.Exists(\"result_raster\"):\n",
    "        #print(\"deleting\")\n",
    "        arcpy.Delete_management(\"result_raster\")\n",
    "        time.sleep(3)\n",
    "        if arcpy.Exists(\"result_raster\"):\n",
    "            #print(\"deleting\")\n",
    "            arcpy.Delete_management(\"result_raster\")\n",
    "            time.sleep(3)\n",
    "        \n",
    "    arcpy.Rename_management(\"temp_result\",\"result_raster\")\n",
    "    "
   ]
  },
  {
   "cell_type": "markdown",
   "metadata": {},
   "source": [
    "Use the CellStatistics tool to compare the equivalent cells in two rasters and retain the highest value of each cell pair\n",
    "\n",
    "https://pro.arcgis.com/en/pro-app/latest/tool-reference/spatial-analyst/cell-statistics.htm"
   ]
  },
  {
   "cell_type": "code",
   "execution_count": 11,
   "metadata": {},
   "outputs": [],
   "source": [
    "def calc_max_fuzzy_viewshed():\n",
    "    # Retain max value of each cell to final results raster\n",
    "    \n",
    "    if arcpy.Exists(\"temp_result\"):\n",
    "        arcpy.Delete_management(\"temp_result\")\n",
    "       \n",
    "    #temp_raster = np.maximum(\"result_raster\", \"fuzzy_vs)\n",
    "    temp_raster = CellStatistics([\"result_raster\", \"fuzzy_vs\"], \"MAXIMUM\")\n",
    "    temp_raster.save(\"temp_result\")\n",
    "        \n",
    "    if arcpy.Exists(\"result_raster\"):\n",
    "        #print(\"deleting\")\n",
    "        arcpy.Delete_management(\"result_raster\")\n",
    "        time.sleep(3)\n",
    "        if arcpy.Exists(\"result_raster\"):\n",
    "            #print(\"deleting\")\n",
    "            arcpy.Delete_management(\"result_raster\")\n",
    "            time.sleep(3)\n",
    "        \n",
    "    arcpy.Rename_management(\"temp_result\",\"result_raster\")"
   ]
  },
  {
   "cell_type": "markdown",
   "metadata": {},
   "source": [
    "Routine to create fuzzy view for a single summit.  \n",
    "Uncomment the summit to use based on its ObjectID.\n",
    "\n",
    "https://pro.arcgis.com/en/pro-app/latest/tool-reference/data-management/make-feature-layer.htm"
   ]
  },
  {
   "cell_type": "code",
   "execution_count": 12,
   "metadata": {},
   "outputs": [],
   "source": [
    "def single_summit():\n",
    "    \n",
    "    # Uncomment summit ObjectID to run\n",
    "    viewpoint_oid = 178 #Skiddaw\n",
    "    #viewpoint_oid = 53  #Fellbarrow\n",
    "    #viewpoint_oid = 18  #Blake Fell\n",
    "    \n",
    "    print(datetime.now().strftime(\"%H:%M:%S\") + \" Starting\")\n",
    "    \n",
    "    global viewpoint\n",
    "    viewpoint = \"viewpoint\"\n",
    "        \n",
    "    qry_string = \"OBJECTID = \" + str(viewpoint_oid)\n",
    "    arcpy.MakeFeatureLayer_management(viewpoints_dataset, viewpoint, qry_string)\n",
    "\n",
    "    calc_eucl_dist()\n",
    "    calc_fuzzy_membership()\n",
    "    calc_binary_viewshed()\n",
    "    calc_fuzzy_viewshed()\n",
    "                \n",
    "    print(datetime.now().strftime(\"%H:%M:%S\") + \" Done.\")\n",
    "    "
   ]
  },
  {
   "cell_type": "markdown",
   "metadata": {},
   "source": [
    "Define routine to loop through all the Wainwrights to create a single composite fuzzy viewshed.  \n",
    "Note - Uncomment the composite routine needed ie max fuzzy values or summed fuzzy values for each cell.\n",
    "\n",
    "https://pro.arcgis.com/en/pro-app/latest/arcpy/data-access/searchcursor-class.htm  \n",
    "https://pro.arcgis.com/en/pro-app/latest/tool-reference/data-management/calculate-statistics.htm  \n",
    "https://pro.arcgis.com/en/pro-app/latest/tool-reference/data-management/build-pyramids.htm"
   ]
  },
  {
   "cell_type": "code",
   "execution_count": 13,
   "metadata": {},
   "outputs": [],
   "source": [
    "def all_summits():\n",
    "    \n",
    "    global viewpoint\n",
    "    viewpoint = \"viewpoint\"\n",
    "    \n",
    "    print(datetime.now().strftime(\"%H:%M:%S\") + \" Starting\")\n",
    "    \n",
    "    # Set up an empty raster to hold the composite results\n",
    "    init_results_raster()\n",
    "    \n",
    "    # Loop through every Wainwright in the viewpoints dataset\n",
    "    with arcpy.da.SearchCursor(viewpoints_dataset,['OID@','Name']) as cursor:\n",
    "        for row in cursor:\n",
    "            viewpoint_oid = row[0]\n",
    "            \n",
    "            if viewpoint_oid > 0:\n",
    "                viewpoint_name = str(row[1])\n",
    "                    \n",
    "                print(datetime.now().strftime(\"%H:%M:%S\") + \" Creating viewshed for \" + str(viewpoint_oid) + \": \" + viewpoint_name)\n",
    "         \n",
    "                qry_string = \"OBJECTID = \" + str(viewpoint_oid)\n",
    "                arcpy.MakeFeatureLayer_management(viewpoints_dataset, viewpoint, qry_string)\n",
    "\n",
    "                calc_eucl_dist()\n",
    "                calc_fuzzy_membership()\n",
    "                calc_binary_viewshed()\n",
    "                calc_fuzzy_viewshed()\n",
    "\n",
    "                # Uncomment the composite routine needed ie max fuzzy values or summed fuzzy values for each cell\n",
    "                calc_max_fuzzy_viewshed()\n",
    "                #calc_comp_fuzzy_viewshed()\n",
    "\n",
    "    # Calc statistics to speed up drawing on map \n",
    "    arcpy.management.CalculateStatistics(\"result_raster\")\n",
    "    arcpy.management.BuildPyramids(\"result_raster\")\n",
    "    \n",
    "    print(datetime.now().strftime(\"%H:%M:%S\") + \" Done.\")\n",
    "    "
   ]
  },
  {
   "cell_type": "markdown",
   "metadata": {
    "scrolled": true
   },
   "source": [
    "Finally, once all the routines have been defined, run the program.  \n",
    "Uncomment the routine to run - single wainwright, or all wainwrights."
   ]
  },
  {
   "cell_type": "code",
   "execution_count": 14,
   "metadata": {
    "scrolled": true
   },
   "outputs": [
    {
     "name": "stdout",
     "output_type": "stream",
     "text": [
      "22:33:13 Starting\n",
      "22:38:43 Done.\n"
     ]
    }
   ],
   "source": [
    "single_summit()\n",
    "#all_summits()"
   ]
  }
 ],
 "metadata": {
  "kernelspec": {
   "display_name": "ArcGISPro",
   "language": "Python",
   "name": "python3"
  },
  "language_info": {
   "file_extension": ".py",
   "name": "python",
   "version": "3"
  }
 },
 "nbformat": 4,
 "nbformat_minor": 2
}
